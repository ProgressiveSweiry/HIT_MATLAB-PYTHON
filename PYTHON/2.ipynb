{
  "cells": [
    {
      "cell_type": "markdown",
      "metadata": {
        "deletable": false,
        "editable": false,
        "id": "p89VBqgi-S6k"
      },
      "source": [
        "# Experiment 4\n",
        "\n",
        "**Topics of Experiment 4**\n",
        "\n",
        "* Using `input` function in Python.\n",
        "* Using `for` loop in Python.\n",
        "* Using `while` loop in Python.\n",
        "* Using `if elif else` in Python.\n",
        "* Function and Methods\n"
      ]
    },
    {
      "cell_type": "markdown",
      "metadata": {
        "deletable": false,
        "editable": false,
        "id": "pSchzZcM-S6p"
      },
      "source": [
        "## Question 1\n",
        "\n",
        "Create a function named 'Ex1',  which asks for your name and age using `input()`, and then calculates how many years you have until you reach 120.\n",
        "\n",
        "At the end, the program should print the **exact** following format **(in multiple lines)**, for example:\n",
        "\n",
        "- Your name is `Danny`.\n",
        "- Your age is `27` years old.\n",
        "- You've got `93` years to 120.\n",
        "\n",
        "Notes:\n",
        "\n",
        "1. Make sure the printed format corresponds with the given example.\n",
        "2. The `input()` function returns str object, so to change to it integer use `int().`"
      ]
    },
    {
      "cell_type": "code",
      "execution_count": 13,
      "metadata": {
        "deletable": false,
        "id": "f14Qts8Y-S6q"
      },
      "outputs": [],
      "source": [
        "#Exe 1 - answer here!\n",
        "def Ex1():\n",
        "    # Write your code here\n",
        "    name = input(\"What's your name: \")\n",
        "    age = input(\"What's your age: \")\n",
        "    print(\"Your name is \" + name)\n",
        "    print(\"Your age is \" + age + \" years old\")\n",
        "    years_left = 120 - int(age)\n",
        "    print(\"You've got \" + str(years_left) + \" years to 120\")"
      ]
    },
    {
      "cell_type": "code",
      "execution_count": null,
      "metadata": {
        "deletable": false,
        "editable": false,
        "id": "73RrEdA3-S6r"
      },
      "outputs": [],
      "source": [
        "# Function Call - Test your function.\n",
        "Ex1()"
      ]
    },
    {
      "cell_type": "markdown",
      "source": [
        "## Question 2\n",
        "\n",
        "Write the function `QuadRoots` that calculates solutions of a quadratic equation of the form:\n",
        "\\begin{align}ax^2+bx+c=0\\end{align}\n",
        "\n",
        "\n",
        "The function should receive three coefficients $a$, $b$ and $c$.\n",
        "\n",
        "The formula for finding the roots:\n",
        "\n",
        "\\begin{align}\n",
        "          x_{1,2} =\\frac{-b\\pm\\sqrt{b^2-4ac} }{2a}\n",
        "    \\end{align}\n",
        "\n",
        "There are special cases where there is one solution to the equation or there are no solutions at all:\n",
        "*   $b^2-4ac<0$ : No solutions.\n",
        "*   $b^2-4ac=0$ : One solution - $x=\\frac{-b}{2a}$.\n",
        "*   $b^2-4ac>0$ : Two solutions - the complete solution.\n",
        "\n",
        "The function should also **return** one of the following strings:\n",
        "*   `'There is no solution to the equation'`\n",
        "*   `'There is one solution to the equation, and it is …'`\n",
        "*   `'There are two solutions to the equation, and they are … and …'`\n",
        "\n",
        "> **Examples**:\n",
        "1.   For $a=1, b=-6, c=1$ the function should return: `There are two solutions to the equation, and they are 5.82 and 0.17`.\n",
        "2.   For $a=1, b=0, c=2$ the function should return: `There is no solution to the equation`.\n",
        "\n",
        "**Note:**\n",
        "\n",
        "*   $det = b^2-4ac$"
      ],
      "metadata": {
        "id": "OYIDNQqkLilO"
      }
    },
    {
      "cell_type": "code",
      "source": [
        "def QuadRoots(a, b, c):\n",
        "    # Write your code here\n",
        "    det = b**2 - 4*a*c\n",
        "    if(det < 0):\n",
        "      return 'There is no solution to the equation'\n",
        "    elif(det == 0):\n",
        "      x = -b/(2*a)\n",
        "      return ('There is one solution to the equation, and it is ' + str(x))\n",
        "    else:\n",
        "      x1 = (-b + det**0.5) / (2*a)\n",
        "      x2 = (-b - det**0.5) / (2*a)\n",
        "      return ('There are two solutions to the equation, and they are ' + str(x1) +  ' and ' + str(x2) )"
      ],
      "metadata": {
        "id": "cSIFZFsnLfvP"
      },
      "execution_count": 20,
      "outputs": []
    },
    {
      "cell_type": "code",
      "source": [
        "result_message = QuadRoots(1,-6,1) # Check your function call\n",
        "print(result_message)"
      ],
      "metadata": {
        "id": "akXCvXsAh0dZ",
        "colab": {
          "base_uri": "https://localhost:8080/"
        },
        "outputId": "2cb493eb-ed8d-4749-cd73-58c20ddf486e"
      },
      "execution_count": 24,
      "outputs": [
        {
          "output_type": "stream",
          "name": "stdout",
          "text": [
            "There are two solutions to the equation, and they are 5.82842712474619 and 0.1715728752538097\n"
          ]
        }
      ]
    },
    {
      "cell_type": "markdown",
      "source": [
        "## question 3\n",
        "Write the function `ListMean` that  receives:\n",
        "1. A list of numbers (int or float).\n",
        "2. $num$ - an aditional argument.\n",
        "\n",
        "The function should return  the average value of all the list numbers that are greater/equal to $num$.\n",
        "\n",
        "If there are no such numbers (or if the list is empty) the function should return -1.\n",
        "\n",
        "**algorithm**\n",
        "\n",
        "1.   Set a variable for the sum ('sum' is an existing function and not allowed to use) and initialize to 0.\n",
        "\n",
        "2.   Set a variable to count and initialize it to 0.\n",
        "\n",
        "2.   Go through the list using a `for` loop, and check each number if it is greater/equal to $num$.\n",
        "\n",
        "*   If it is greater/equal to $num$, add the number to the sum variable and increase the count variable by 1.\n",
        "\n",
        "4.   Calculate and return the average.\n",
        "\n",
        "> **Examples**:\n",
        "1.   For `A=[1, 2, 3, 4, 5, 15, 10]` and `num = 8`, the return value should be: `12.5`\n",
        "2.   For `A=[11, 22, 33, 16.5, 10]` and   `num = 50`, the return value should be: `-1`\n",
        "\n",
        "**Note:**\n",
        "*   It can be assumed that the list contains only numbers (float/int).\n",
        "*   **Do not use** `len`, `sum` functions."
      ],
      "metadata": {
        "id": "MD_GfVAaOzcV"
      }
    },
    {
      "cell_type": "code",
      "source": [
        "def ListMean(input_list, num):\n",
        "    # Write your code here\n",
        "    counter = 0\n",
        "    sum = 0\n",
        "    for i in input_list:\n",
        "      if (i >= num):\n",
        "        sum += i\n",
        "        counter += 1\n",
        "\n",
        "    if (counter > 0):\n",
        "      return (sum/counter)\n",
        "    else:\n",
        "      return (-1)"
      ],
      "metadata": {
        "id": "6wSmSxJTO6UG"
      },
      "execution_count": 30,
      "outputs": []
    },
    {
      "cell_type": "code",
      "source": [
        "A=[11,22,33,16.5, 10]\n",
        "num = 50\n",
        "result = ListMean(A, num) # Check your function call\n",
        "print(result)"
      ],
      "metadata": {
        "id": "fL8nIT9YkdlK",
        "colab": {
          "base_uri": "https://localhost:8080/"
        },
        "outputId": "ef272ebe-4fe9-4467-d107-7e2e1222ef50"
      },
      "execution_count": 31,
      "outputs": [
        {
          "output_type": "stream",
          "name": "stdout",
          "text": [
            "-1\n"
          ]
        }
      ]
    },
    {
      "cell_type": "markdown",
      "source": [
        "## question 4\n",
        "Write the function `FindEven` that  receives:\n",
        "1. A list of numbers (int).\n",
        "\n",
        "The function should return  the total even numbers in the list\n",
        "\n",
        "> **Examples**:\n",
        "1.   For `A=[1, 2, 3, 4, 5, 6, 10]` , the return value should be: `4`\n",
        "2.   For `A=[11, 22, 33, 16, 9]` , the return value should be: `2`"
      ],
      "metadata": {
        "id": "o_17gF6QkQdS"
      }
    },
    {
      "cell_type": "code",
      "source": [
        "def FindEven(list_numbers):\n",
        "    # Write your code here\n",
        "    counter = 0\n",
        "    for i in list_numbers:\n",
        "      if not(i%2):\n",
        "        counter += 1\n",
        "    return counter"
      ],
      "metadata": {
        "id": "GxnH1JhWj9rq"
      },
      "execution_count": 32,
      "outputs": []
    },
    {
      "cell_type": "code",
      "source": [
        "A=[11, 22, 33, 16, 9]\n",
        "result = FindEven(A) # Check your function call\n",
        "print(result)"
      ],
      "metadata": {
        "id": "h2lWZrY5lEHK",
        "colab": {
          "base_uri": "https://localhost:8080/"
        },
        "outputId": "23cc9afb-c439-4992-939c-93abe41fb829"
      },
      "execution_count": 34,
      "outputs": [
        {
          "output_type": "stream",
          "name": "stdout",
          "text": [
            "2\n"
          ]
        }
      ]
    }
  ],
  "metadata": {
    "kernelspec": {
      "display_name": "Python 3",
      "name": "python3"
    },
    "language_info": {
      "name": "python"
    },
    "colab": {
      "provenance": []
    },
    "gpuClass": "standard"
  },
  "nbformat": 4,
  "nbformat_minor": 0
}