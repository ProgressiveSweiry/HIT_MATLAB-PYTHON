{
  "cells": [
    {
      "cell_type": "markdown",
      "metadata": {
        "deletable": false,
        "editable": false,
        "id": "PWAqNmIThFJ9"
      },
      "source": [
        "# Experiment 5\n",
        "\n",
        "**Topics of Experiment 5**\n",
        "\n",
        "*   Using `for` loop in Python.\n",
        "*   Using `if elif else` in Python.\n",
        "*   Function and Methods.\n",
        "*   numpy library.\n"
      ]
    },
    {
      "cell_type": "code",
      "source": [
        "Student = \"Amit Sweiry\"    # Student Name\n",
        "ID = \"322816323\"         # ID\n",
        "print(Student, ID)"
      ],
      "metadata": {
        "id": "OoZPAfTtjfZx",
        "colab": {
          "base_uri": "https://localhost:8080/"
        },
        "outputId": "737a4e4b-14b5-4a8d-ab0c-c533bbb11460"
      },
      "execution_count": 1,
      "outputs": [
        {
          "output_type": "stream",
          "name": "stdout",
          "text": [
            "Amit Sweiry 322816323\n"
          ]
        }
      ]
    },
    {
      "cell_type": "markdown",
      "metadata": {
        "deletable": false,
        "editable": false,
        "id": "_u8KJmwKhFKD"
      },
      "source": [
        "### Exercise 1 - 35 points\n",
        "\n",
        "Create a function called `ExtractNonVowelEnclosedWords`.\n",
        "\n",
        "This function should accept a single string as its input and return a list containing only the words that **start and end** with a non-vowel (NOT - (A, E, I, O, U)). The function should be case-insensitive, meaning it should recognize consonants regardless of whether they are uppercase or lowercase.\n",
        "\n",
        "You are allowed to use the `.lower()` method if necessary (for more information, you can use `help(str.lower)`).\n",
        "\n",
        "**Example 1:**\n",
        "\n",
        "```python\n",
        "sampleString = \"I'm in a hurry because my trip isn't coming soon, so I have to find another way to get there.\"\n",
        "resultList = ExtractNonVowelEnclosedWords(sampleString)\n",
        "```\n",
        "resultList → ['hurry', 'my', 'trip', 'coming', 'soon', 'find', 'way', 'get']\n",
        "\n",
        "**Example 2:**\n",
        "\n",
        "```python\n",
        "sampleString = \"Every choice leads to a different path.\"\n",
        "resultList = ExtractNonVowelEnclosedWords(sampleString)\n",
        "```\n",
        "resultList → ['leads', 'different', 'path']"
      ]
    },
    {
      "cell_type": "code",
      "execution_count": 2,
      "metadata": {
        "deletable": false,
        "id": "AMuQUuaxhFKE"
      },
      "outputs": [],
      "source": [
        "# answer exe 1 here!\n",
        "def ExtractNonVowelEnclosedWords(string):\n",
        "    chars = 'aeiou'\n",
        "    string = string.lower()\n",
        "    strList = string.split()\n",
        "    tmpList = []\n",
        "    for word in strList:\n",
        "      if(chars.find(word[0]) == -1 and chars.find(word[-1]) == -1 ):\n",
        "        tmpList.append(word)\n",
        "    return tmpList"
      ]
    },
    {
      "cell_type": "code",
      "execution_count": 3,
      "metadata": {
        "deletable": false,
        "editable": false,
        "scrolled": true,
        "id": "kg7ziMpYhFKE",
        "colab": {
          "base_uri": "https://localhost:8080/"
        },
        "outputId": "7096fc7d-1828-417d-a80c-ec3b5ff881ef"
      },
      "outputs": [
        {
          "output_type": "stream",
          "name": "stdout",
          "text": [
            "['hurry', 'my', 'trip', 'coming', 'soon,', 'find', 'way', 'get', 'there.']\n",
            "['something', 'bad', 'just', 'has', 'someth']\n"
          ]
        }
      ],
      "source": [
        "print(ExtractNonVowelEnclosedWords(\"I'm in a hurry because my trip isn't coming soon, so I have to find another way to get there.\"))\n",
        "print(ExtractNonVowelEnclosedWords(\"to do something bad just because someone else has done someth\"))"
      ]
    },
    {
      "cell_type": "markdown",
      "metadata": {
        "deletable": false,
        "editable": false,
        "id": "CjJdd04vhFKF"
      },
      "source": [
        "### Exercise 2 - 35 points\n",
        "\n",
        "Define a function named `countWordsNotEndingWithChars`.\n",
        "\n",
        "The function should take two inputs:\n",
        "1. A string made up of words.\n",
        "2. A set of characters (string) to filter out words that end with any of them.\n",
        "\n",
        "The function should return a dictionary where each key is a word that **doesn't end** with any of the given characters, and each value is the number of occurrences of that word. The function should be case-insensitive, which means it should recognize vowels regardless of whether they are uppercase or lowercase.\n",
        "\n",
        "**Example:**\n",
        "\n",
        "```python\n",
        "myStr = 'Hello Hello We DO He no No no we'\n",
        "chars = 'oE'\n",
        "stringHist = countWordsNotEndingWithChars(myStr, chars)\n",
        "```\n",
        "stringHist → {}. **(The order of the words/keys does not matter)**\n",
        "\n",
        "**Another Example:**\n",
        "\n",
        "```python\n",
        "myStr = 'Apple Banana Cherry Apple apricot banana'\n",
        "chars = 'EY'\n",
        "stringHist = countWordsNotEndingWithChars(myStr, chars)\n",
        "```\n",
        "stringHist → {'banana': 2, 'apricot': 1}. **(The order of the words/keys does not matter)**"
      ]
    },
    {
      "cell_type": "code",
      "execution_count": 4,
      "metadata": {
        "deletable": false,
        "id": "6PDgcsTbhFKF"
      },
      "outputs": [],
      "source": [
        "# answer exe 2 here!\n",
        "def countWordsNotEndingWithChars(line, chars):\n",
        "    line = line.lower()\n",
        "    lineList = line.split()\n",
        "    chars = chars.lower()\n",
        "    tmpDict = {}\n",
        "    for word in lineList:\n",
        "      if(chars.find(word[-1]) == -1):\n",
        "        if(tmpDict.get(word)):\n",
        "          tmpDict[word] = tmpDict[word] + 1\n",
        "        else:\n",
        "          tmpDict[word] = 1\n",
        "    return tmpDict"
      ]
    },
    {
      "cell_type": "code",
      "execution_count": 5,
      "metadata": {
        "deletable": false,
        "editable": false,
        "id": "g2RTyUvFhFKG",
        "colab": {
          "base_uri": "https://localhost:8080/"
        },
        "outputId": "85506229-df77-4c30-937b-56a2c6aef1a2"
      },
      "outputs": [
        {
          "output_type": "stream",
          "name": "stdout",
          "text": [
            "{'banana': 2, 'apricot': 1}\n"
          ]
        }
      ],
      "source": [
        "print(countWordsNotEndingWithChars('Apple Banana Cherry Apple apricot banana', 'EY'))"
      ]
    },
    {
      "cell_type": "markdown",
      "source": [
        "### Exc 3 - 30 points\n",
        "\n",
        "Define a function named `PlusMat`.\n",
        "The function input is two parameters.\n",
        "\n",
        "1.   `ms` – even number. represents the size of the matrix.\n",
        "2.   `width_half` – natural number. Represents the thickness of the strips of the ones, the thickness of the entire strip is **twice** the `width_half`.\n",
        "It should also have a default value of 1.\n",
        "3. Check that both `ms` and `width_half` are numerical objects (using \"[numbers.Number](https://stackabuse.com/python-check-if-variable-is-a-number/)\"!!)\n",
        "If not, return None.\n",
        "\n",
        "the function returns a matrix that is an ndarray array of dtype int.\n",
        "The plus is located exactly in the middle of the matrix.\n",
        "\n",
        "**example 1:**\n",
        "\n",
        "```pyton\n",
        "plus_1 = PlusMat(4)\n",
        "print(plus_1)\n",
        "\n",
        "[[0 1 1 0]\n",
        " [1 1 1 1]\n",
        " [1 1 1 1]\n",
        " [0 1 1 0]]\n",
        "```\n",
        "\n",
        "**example 2:**\n",
        "\n",
        "```pyton\n",
        "plus_2 = PlusMat(8, 2)\n",
        "print(plus_2)\n",
        "\n",
        "[[0 0 1 1 1 1 0 0]\n",
        " [0 0 1 1 1 1 0 0]\n",
        " [1 1 1 1 1 1 1 1]\n",
        " [1 1 1 1 1 1 1 1]\n",
        " [1 1 1 1 1 1 1 1]\n",
        " [1 1 1 1 1 1 1 1]\n",
        " [0 0 1 1 1 1 0 0]\n",
        " [0 0 1 1 1 1 0 0]]\n",
        "```\n",
        "\n",
        "**example 3:**\n",
        "\n",
        "```pyton\n",
        "plus_3 = PlusMat(7, 2)\n",
        "print(plus_3)\n",
        "\n",
        "[[0 0 1 1 1 1 0 0]\n",
        " [0 0 1 1 1 1 0 0]\n",
        " [1 1 1 1 1 1 1 1]\n",
        " [1 1 1 1 1 1 1 1]\n",
        " [1 1 1 1 1 1 1 1]\n",
        " [1 1 1 1 1 1 1 1]\n",
        " [0 0 1 1 1 1 0 0]\n",
        " [0 0 1 1 1 1 0 0]]\n",
        "```"
      ],
      "metadata": {
        "id": "_9yiDKQTlgSo"
      }
    },
    {
      "cell_type": "code",
      "source": [
        "import numpy as np\n",
        "import numbers\n",
        "# answer exe 3 here!\n",
        "def PlusMat(ms, width_half = 1):\n",
        "    if(isinstance(ms, numbers.Number) and isinstance(width_half, numbers.Number)):\n",
        "      if(ms%2):\n",
        "        ms = ms + 1\n",
        "      mat = np.zeros((ms,ms), dtype=np.int64)\n",
        "      tmpRange = range((int(ms/2) - width_half), (int(ms/2) + width_half))\n",
        "      mat[tmpRange, :] = 1\n",
        "      mat[:, tmpRange] = 1\n",
        "      return mat\n",
        "    else:\n",
        "      return None"
      ],
      "metadata": {
        "id": "h8MmUgTOIAui"
      },
      "execution_count": 20,
      "outputs": []
    },
    {
      "cell_type": "code",
      "source": [
        "plus_1 = PlusMat(4)\n",
        "print(plus_1)\n",
        "print(\" \")\n",
        "\n",
        "plus_2 = PlusMat(8, 2)\n",
        "print(plus_2)\n",
        "print(\" \")\n",
        "\n",
        "plus_3 = PlusMat(7, 2)\n",
        "print(plus_3)\n",
        "print(\" \")\n",
        "\n",
        "plus_4 = PlusMat(16,3)\n",
        "print(plus_4)"
      ],
      "metadata": {
        "id": "4z_w4-CiIGY3"
      },
      "execution_count": null,
      "outputs": []
    }
  ],
  "metadata": {
    "kernelspec": {
      "display_name": "Python 3",
      "name": "python3"
    },
    "language_info": {
      "name": "python"
    },
    "colab": {
      "provenance": []
    },
    "gpuClass": "standard"
  },
  "nbformat": 4,
  "nbformat_minor": 0
}