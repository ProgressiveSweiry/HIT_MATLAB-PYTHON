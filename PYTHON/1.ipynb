{
  "cells": [
    {
      "cell_type": "markdown",
      "metadata": {
        "deletable": false,
        "editable": false,
        "id": "cU4QFXVvfCjs"
      },
      "source": [
        "# preExperiment 4b - for submission!\n",
        "rename the file name to 's' followed by your ID."
      ]
    },
    {
      "cell_type": "markdown",
      "metadata": {
        "deletable": false,
        "editable": false,
        "id": "PO1dKES_fCjx"
      },
      "source": [
        "## Numbers (int, float) - math operations\n",
        "\n",
        "The function <code>print()</code>, will print output the values it receives."
      ]
    },
    {
      "cell_type": "markdown",
      "metadata": {
        "deletable": false,
        "editable": false,
        "id": "_dHjEFQRfCjy"
      },
      "source": [
        "### question 1\n",
        "\n",
        "Open new code cell below this one and print the results of next expressions (each expression in his on line):\n",
        "\n",
        "    1) 1+2\n",
        "\n",
        "    2) 5*10\n",
        "\n",
        "    3) 5*10+7\n",
        "\n",
        "    4) 5*(10+7)\n",
        "\n",
        "    5) 10**2\n",
        "\n",
        "    6) 9**0.5\n",
        "\n",
        "    7) 77%2\n",
        "\n",
        "    8) 18//5"
      ]
    },
    {
      "cell_type": "code",
      "source": [
        "print(1+2)\n",
        "print(5*10)\n",
        "print(5*10+7)\n",
        "print(5*(10+7))\n",
        "print(10**2)\n",
        "print(9**0.5)\n",
        "print(77%2)\n",
        "print(18//5)"
      ],
      "metadata": {
        "id": "Q-QZVt1dVFAz"
      },
      "execution_count": null,
      "outputs": []
    },
    {
      "cell_type": "markdown",
      "metadata": {
        "deletable": false,
        "editable": false,
        "id": "KocqUNaNfCjz"
      },
      "source": [
        "### question 2\n",
        "Open new code cell below this one and use at least 4 mathematecal opretors on any numerical valus you prefer to get 85.75 as a rasult and print it."
      ]
    },
    {
      "cell_type": "code",
      "source": [
        "print(85.75 + 0)\n",
        "print(85.75 - 0)\n",
        "print(85.75 * 1)\n",
        "print(85.75 / 1)"
      ],
      "metadata": {
        "id": "KPUlVLA2Vuzf"
      },
      "execution_count": null,
      "outputs": []
    },
    {
      "cell_type": "markdown",
      "metadata": {
        "deletable": false,
        "editable": false,
        "id": "0BwnnmnmfCj0"
      },
      "source": [
        "## More about numbers\n",
        "We can assign numbers into variables. For example:\n",
        "\n",
        "<code>a = 5</code>\n",
        "\n",
        "The names you use when creating these labels need to follow a few rules:\n",
        "\n",
        "    1. Names can not start with a number.\n",
        "    2. There can be no spaces in the name, use _ instead.\n",
        "    3. Can't use any of these symbols :'\",<>/?|\\()!@#$%^&*~-+\n",
        "    4. It's considered best practice (PEP8) that names are lowercase.\n",
        "    5. Avoid using the characters 'l' (lowercase letter el), 'O' (uppercase letter oh),\n",
        "       or 'I' (uppercase letter eye) as single character variable names.\n",
        "    6. Avoid using words that have special meaning in Python like \"list\" and \"str\""
      ]
    },
    {
      "cell_type": "markdown",
      "metadata": {
        "deletable": false,
        "editable": false,
        "id": "D3zDGrizfCj1"
      },
      "source": [
        "### question 3\n",
        "\n",
        "Use object names to keep better track of what's going on in your code!\n",
        "\n",
        "Open new code cell below this one and assign to variables the numerical valus you use in question 2, and use them to get 85.75 and print is.\n",
        "\n",
        "For example:\n",
        "   \n",
        "instead:\n",
        "\n",
        "<code>print(4\\*5+3)</code>\n",
        "\n",
        "write:\n",
        "\n",
        "<code>a = 4</code>\n",
        "\n",
        "<code>b = 5</code>\n",
        "\n",
        "<code>c = 3</code>\n",
        "\n",
        "<code>d = a*b+c</code>\n",
        "\n",
        "<code>print(d)</code>\n",
        "\n"
      ]
    },
    {
      "cell_type": "code",
      "source": [
        "a = 85.75\n",
        "b = 1\n",
        "c = 0\n",
        "print(a * b)\n",
        "print(a/b)\n",
        "print(a+c)\n",
        "print(a-c)"
      ],
      "metadata": {
        "id": "meGrldZWWkTx"
      },
      "execution_count": null,
      "outputs": []
    },
    {
      "cell_type": "markdown",
      "metadata": {
        "deletable": false,
        "editable": false,
        "id": "cvCPijNcfCj2"
      },
      "source": [
        "### question 4\n",
        "In Python a decimal number is called a floating point (3.14) and a whole number is called integer.\n",
        "assign to 'a' an integer and to 'b' a floating point. Then write <code>print(type(a))</code>, <code>print(type(b))</code>. what did you get?\n",
        "\n",
        "   "
      ]
    },
    {
      "cell_type": "code",
      "execution_count": 5,
      "metadata": {
        "deletable": false,
        "id": "N-qxiuGNfCj2",
        "colab": {
          "base_uri": "https://localhost:8080/"
        },
        "outputId": "c22b663b-d7a9-4a3a-8fa6-cdc1f73fc47b"
      },
      "outputs": [
        {
          "output_type": "stream",
          "name": "stdout",
          "text": [
            "<class 'int'>\n",
            "<class 'float'>\n"
          ]
        }
      ],
      "source": [
        "# Write your answer here\n",
        "a = 90\n",
        "b = 3.14\n",
        "print(type(a))\n",
        "print(type(b))"
      ]
    },
    {
      "cell_type": "markdown",
      "metadata": {
        "deletable": false,
        "editable": false,
        "id": "SSJX57yjfCj4"
      },
      "source": [
        "### question 5\n",
        "assign to 'c' the number 7.548796521. Use the function <code>round()</code> and explain what the function did to the variable c. store the answer in the variable 'd'.\n",
        "\n",
        "Print the type of the new variable 'd'.\n",
        "\n",
        "for explain what <code>round()</code> did open new text cell below this one and write your explanation.\n"
      ]
    },
    {
      "cell_type": "code",
      "execution_count": 6,
      "metadata": {
        "deletable": false,
        "id": "1T1duxUwfCj5",
        "colab": {
          "base_uri": "https://localhost:8080/"
        },
        "outputId": "0f957c5b-eb18-42f5-b999-d34d2f1a1c78"
      },
      "outputs": [
        {
          "output_type": "stream",
          "name": "stdout",
          "text": [
            "8\n"
          ]
        }
      ],
      "source": [
        "# Write your answer here\n",
        "d = round(7.548796521)\n",
        "print(d)"
      ]
    },
    {
      "cell_type": "markdown",
      "source": [
        "round(x) did round the floating point number x to the nearest integer."
      ],
      "metadata": {
        "id": "GuIBp1PtXOhN"
      }
    },
    {
      "cell_type": "markdown",
      "metadata": {
        "deletable": false,
        "editable": false,
        "id": "8hFNtB1_fCj5"
      },
      "source": [
        "## Strings\n",
        "\n",
        "Strings are used in Python to record text information, such as names. Strings in Python are actually a sequence, which basically means Python keeps track of every element in the string as a sequence. For example, Python understands the string \"hello\" to be a sequence of letters in a specific order. This means we will be able to use indexing to grab particular letters (like the first letter, or the last letter).\n",
        "\n",
        "This idea of a sequence is an important one in Python and we will touch upon it later on in the future.\n",
        "\n",
        "In this section we'll learn about the following:\n",
        "\n",
        "1.) Creating Strings\n",
        "\n",
        "2.) Printing Strings\n",
        "\n",
        "3.) String Indexing and Slicing\n",
        "\n",
        "4.) String Properties\n",
        "\n",
        "5.) String Methods\n",
        "\n",
        "6.) Print Formatting\n",
        "\n",
        "For example:\n",
        "\n",
        "    'Hello World'\n",
        "    '200.5'\n",
        "    \"Hellloooo Wooorld!\"\n",
        "    ' '\n",
        "    ''\n",
        "    'Py7h0n-3.6.5'   \n"
      ]
    },
    {
      "cell_type": "markdown",
      "metadata": {
        "deletable": false,
        "editable": false,
        "id": "Yg1LO78-fCj6"
      },
      "source": [
        "### question 6\n",
        "Assign to a the word 'hello'\n",
        "\n",
        "   Type the next lines( each line in a new cell!!!!)\n",
        "    \n",
        "    a[0]\n",
        "    \n",
        "    a[1]\n",
        "    \n",
        "    a[2]\n",
        "    \n",
        "    a[3]\n",
        "    \n",
        "    a[4]\n",
        "    \n",
        "    a[5] --> Explain what happen in a text cell after the error!!\n",
        "    \n",
        "    a[-1] --> explain what happen."
      ]
    },
    {
      "cell_type": "markdown",
      "source": [
        "a[0] --> 'h'"
      ],
      "metadata": {
        "id": "mK0CsxtWXvGj"
      }
    },
    {
      "cell_type": "markdown",
      "source": [
        "a[1] --> 'e'"
      ],
      "metadata": {
        "id": "YvnNBwM0X364"
      }
    },
    {
      "cell_type": "markdown",
      "source": [
        "a[2] --> 'l'"
      ],
      "metadata": {
        "id": "C16XhdItX7d2"
      }
    },
    {
      "cell_type": "markdown",
      "source": [
        "a[3] --> 'l'"
      ],
      "metadata": {
        "id": "iJwtmL-TX95E"
      }
    },
    {
      "cell_type": "markdown",
      "source": [
        "a[4] --> 'o'"
      ],
      "metadata": {
        "id": "fCDGsiFhYA9d"
      }
    },
    {
      "cell_type": "markdown",
      "source": [
        "a[5] --> ERROR, no char at index 5"
      ],
      "metadata": {
        "id": "2Bh77IpeYLAc"
      }
    },
    {
      "cell_type": "markdown",
      "source": [
        "a[-1] --> 'o' , Starts from the end of the string"
      ],
      "metadata": {
        "id": "pvU2ynfdYWl6"
      }
    },
    {
      "cell_type": "markdown",
      "metadata": {
        "deletable": false,
        "editable": false,
        "id": "JQ9dCK60fCj6"
      },
      "source": [
        "### question 7\n",
        "Now, after figuring how to call each letter, lets see if caught it.\n",
        "\n",
        "Enter the word 'mississippi' to new variable and print all the 's' in the word by accessing their index on both sides!"
      ]
    },
    {
      "cell_type": "code",
      "execution_count": null,
      "metadata": {
        "deletable": false,
        "id": "-w1gkwvbfCj7"
      },
      "outputs": [],
      "source": [
        "# Write your answer here\n",
        "word = 'mississippi'\n",
        "print(word[2])\n",
        "print(word[3])\n",
        "print(word[5])\n",
        "print(word[6])"
      ]
    },
    {
      "cell_type": "markdown",
      "metadata": {
        "deletable": false,
        "editable": false,
        "id": "nsDo5zWAfCj7"
      },
      "source": [
        "As we show in the examples we can create a String by using '' or by using \"\".\n",
        "\n",
        "Lets try to understand if there is a difference and why:\n",
        "\n",
        "### question 8.1   \n",
        "assign to <code>a</code> the sring <code>it is a beatiful day</code> using <code>\"\"</code>. print <code>a</code>."
      ]
    },
    {
      "cell_type": "code",
      "execution_count": 11,
      "metadata": {
        "deletable": false,
        "id": "VVX6fVnMfCj7",
        "colab": {
          "base_uri": "https://localhost:8080/"
        },
        "outputId": "890b2aed-7c96-422c-a4de-775a4babe46d"
      },
      "outputs": [
        {
          "output_type": "stream",
          "name": "stdout",
          "text": [
            "it is a beautiful day\n"
          ]
        }
      ],
      "source": [
        "# Write your answer here\n",
        "a = \"it is a beautiful day\"\n",
        "print(a)"
      ]
    },
    {
      "cell_type": "markdown",
      "metadata": {
        "deletable": false,
        "editable": false,
        "id": "9K148X0SfCj8"
      },
      "source": [
        "### question 8.2\n",
        "\n",
        "assign to <code>b</code> the sring <code>it's a beatiful day</code> using <code>\"\"</code>. print <code>b</code>.\n",
        "\n",
        "If you are getting an error explain in new text cell why."
      ]
    },
    {
      "cell_type": "code",
      "execution_count": 12,
      "metadata": {
        "deletable": false,
        "id": "VBbj8IZ_fCj8",
        "colab": {
          "base_uri": "https://localhost:8080/"
        },
        "outputId": "981d2c66-b4ba-4947-fda3-63c142773d61"
      },
      "outputs": [
        {
          "output_type": "stream",
          "name": "stdout",
          "text": [
            "it's a beautiful day\n"
          ]
        }
      ],
      "source": [
        "# Write your answer here\n",
        "b = \"it's a beautiful day\"\n",
        "print(b)"
      ]
    },
    {
      "cell_type": "markdown",
      "metadata": {
        "deletable": false,
        "editable": false,
        "id": "MkXtQ1KSfCj8"
      },
      "source": [
        "### question 8.3\n",
        "\n",
        "assign to <code>c</code> the sring <code>it's a beatiful day</code> using <code>''</code>. print <code>c</code>.\n",
        "\n",
        "If you are getting an error explain in new text cell why."
      ]
    },
    {
      "cell_type": "code",
      "execution_count": null,
      "metadata": {
        "deletable": false,
        "id": "ArtVarVwfCj9"
      },
      "outputs": [],
      "source": [
        "# Write your answer here\n",
        "c = 'it's a beautiful day'\n",
        "print(c)"
      ]
    },
    {
      "cell_type": "markdown",
      "source": [
        "Python mistakes ' from the string it's with the notation of string ('')"
      ],
      "metadata": {
        "id": "L7S77wKAZSnm"
      }
    },
    {
      "cell_type": "markdown",
      "metadata": {
        "deletable": false,
        "editable": false,
        "id": "yO7uyiFDfCj9"
      },
      "source": [
        "### String Formatting\n",
        "\n",
        "String formatting lets you inject items into a string rather than trying to chain items together using commas or string concatenation.\n",
        "\n",
        "As a quick comparison, consider:\n",
        "\n",
        "<code>Student = 'Yaron'\n",
        "exam = 87\n",
        "concatenation = 'Yesterday, ' + student + ' scored ' + str(points) + ' in the exam.'  # concatenation\n",
        "formatting = f'Yesterday, {student} scored {points} in the exam.'          # string formatting\n",
        "</code>\n",
        "\n",
        "There are three ways to perform string formatting.\n",
        "* The oldest method involves placeholders using the modulo `%` character.\n",
        "* An improved technique uses the `.format()` string method.\n",
        "* The newest method, introduced with Python 3.6, uses formatted string literals, called *f-strings*.\n",
        "\n",
        "In this course will focus on the plceholders formating, but you are more than welcome to read about the others on the internet."
      ]
    },
    {
      "cell_type": "markdown",
      "metadata": {
        "deletable": false,
        "editable": false,
        "id": "DdnLwxpsfCj9"
      },
      "source": [
        "## Formatting with placeholders\n",
        "the modulo operator"
      ]
    },
    {
      "cell_type": "code",
      "execution_count": null,
      "metadata": {
        "deletable": false,
        "editable": false,
        "id": "zf_wOAiIfCj-"
      },
      "outputs": [],
      "source": [
        "#example\n",
        "print('Jhonny, la genta esta %s' %'loca')"
      ]
    },
    {
      "cell_type": "markdown",
      "metadata": {
        "deletable": false,
        "editable": false,
        "id": "i1qMVcFzfCj-"
      },
      "source": [
        "### question 9.1\n",
        "print a sentence which tells how old are you.\n",
        "'i am ? years old'"
      ]
    },
    {
      "cell_type": "code",
      "execution_count": null,
      "metadata": {
        "deletable": false,
        "id": "fJcNGnKkfCj-"
      },
      "outputs": [],
      "source": [
        "# Write your answer here\n",
        "print('I am %s years old' %'22')"
      ]
    },
    {
      "cell_type": "markdown",
      "metadata": {
        "deletable": false,
        "editable": false,
        "id": "lSDvtgf7fCj-"
      },
      "source": [
        "### question 9.2\n",
        "\n",
        "Now store to a variable named 'age' your age in type of int.\n",
        "    for example: age = 16 $\\rightarrow$ type(age) is integer.\n",
        "\n",
        "try to print how old are you, and use the modulo operator and the age variable."
      ]
    },
    {
      "cell_type": "code",
      "execution_count": null,
      "metadata": {
        "deletable": false,
        "id": "syhVybO2fCj_"
      },
      "outputs": [],
      "source": [
        "# Write your answer here\n",
        "age = 22\n",
        "print('I am %s years old' %(age))"
      ]
    },
    {
      "cell_type": "markdown",
      "metadata": {
        "deletable": false,
        "editable": false,
        "id": "4NLAUsFKfCj_"
      },
      "source": [
        "# conclusion for modulo operator\n",
        "it takes a variable (str, int, float) and print it as a string.\n",
        "### question 9.3\n",
        "for last example about it, print the next lines and see if you understood everything.\n",
        "\n",
        "<code>No2 = 2\n",
        "topic = \" we'll discuss on list, tuples ,sets and if statements\"\n",
        "print('Today this lecture number %s %s'%(No2,topic))\n",
        "print(type(No2))\n",
        "print(type(topic))</code>"
      ]
    },
    {
      "cell_type": "code",
      "execution_count": 18,
      "metadata": {
        "deletable": false,
        "id": "x8uC_A8WfCj_",
        "colab": {
          "base_uri": "https://localhost:8080/"
        },
        "outputId": "e06f5f1a-5a27-47b8-b8f8-1c8d9d92ca1c"
      },
      "outputs": [
        {
          "output_type": "stream",
          "name": "stdout",
          "text": [
            "Today this lecture number 2  we'll discuss on list, tuples ,sets and if statements\n",
            "<class 'str'>\n"
          ]
        }
      ],
      "source": [
        "# Write your answer here\n",
        "No2 = 2\n",
        "topic = \" we'll discuss on list, tuples ,sets and if statements\"\n",
        "print('Today this lecture number %s %s'%(No2,topic))\n",
        "print(type(topic))"
      ]
    },
    {
      "cell_type": "markdown",
      "metadata": {
        "deletable": false,
        "editable": false,
        "id": "aQPRFmp1fCj_"
      },
      "source": [
        "## Padding and Precision of Floating Point Numbers\n",
        "\n",
        "Floating point numbers use the format <code>%5.2f</code>. Here, <code>5</code> would be the minimum number of characters the string should contain; these may be padded with whitespace if the entire number does not have this many digits. Next to this, <code>.2f</code> stands for how many numbers to show past the decimal point.\n",
        "\n",
        "### question 9.4\n",
        "Run the next code cell and see if you understand the meaning of the operator <code>%5.2f</code>.\n"
      ]
    },
    {
      "cell_type": "code",
      "execution_count": 20,
      "metadata": {
        "deletable": false,
        "editable": false,
        "id": "cOE_dbGAfCkA",
        "colab": {
          "base_uri": "https://localhost:8080/"
        },
        "outputId": "0d16cfce-53ea-4d57-ec29-b36b2baaf685"
      },
      "outputs": [
        {
          "output_type": "stream",
          "name": "stdout",
          "text": [
            "this is a great number -->    1.72\n"
          ]
        }
      ],
      "source": [
        "print('this is a great number -->%8.2f' %(1.718))"
      ]
    },
    {
      "cell_type": "code",
      "execution_count": 21,
      "metadata": {
        "deletable": false,
        "editable": false,
        "id": "tl2jZBOGfCkA",
        "colab": {
          "base_uri": "https://localhost:8080/"
        },
        "outputId": "7f62ed69-1d4e-4734-b297-7275dae586d9"
      },
      "outputs": [
        {
          "output_type": "stream",
          "name": "stdout",
          "text": [
            "this is a great number -->3\n"
          ]
        }
      ],
      "source": [
        "print('this is a great number -->%.0f' %(2.718))"
      ]
    },
    {
      "cell_type": "code",
      "execution_count": 22,
      "metadata": {
        "deletable": false,
        "editable": false,
        "id": "wPZPfra_fCkA",
        "colab": {
          "base_uri": "https://localhost:8080/"
        },
        "outputId": "b59f979b-35fd-4db9-da37-643e53bbc39f"
      },
      "outputs": [
        {
          "output_type": "stream",
          "name": "stdout",
          "text": [
            "this is a great number -->2.71800\n"
          ]
        }
      ],
      "source": [
        "print('this is a great number -->%1.5f' %(2.718))"
      ]
    },
    {
      "cell_type": "code",
      "execution_count": 23,
      "metadata": {
        "deletable": false,
        "editable": false,
        "id": "UHP54Q7ifCkA",
        "colab": {
          "base_uri": "https://localhost:8080/"
        },
        "outputId": "2f42ea79-ffdb-4f4a-8790-d85a92dd40aa"
      },
      "outputs": [
        {
          "output_type": "stream",
          "name": "stdout",
          "text": [
            "this is a great number -->      2.72\n",
            "this is a great number -->   2345.72\n"
          ]
        }
      ],
      "source": [
        "print('this is a great number -->%10.2f' %(2.718))\n",
        "print('this is a great number -->%10.2f' %(2345.718))"
      ]
    },
    {
      "cell_type": "code",
      "execution_count": 24,
      "metadata": {
        "deletable": false,
        "editable": false,
        "id": "dbTEGRtQfCkA",
        "colab": {
          "base_uri": "https://localhost:8080/"
        },
        "outputId": "068edc6c-40ba-4416-d8bf-2c60f64bb53e"
      },
      "outputs": [
        {
          "output_type": "stream",
          "name": "stdout",
          "text": [
            "this is a great number -->                     2.72\n"
          ]
        }
      ],
      "source": [
        "print('this is a great number -->%25.2f' %(2.718))"
      ]
    },
    {
      "cell_type": "markdown",
      "metadata": {
        "deletable": false,
        "editable": false,
        "id": "kFjE9w5HfCkB"
      },
      "source": [
        "# Lists\n",
        "Earlier when discussing strings we introduced the concept of a *sequence* in Python. Lists can be thought of the most general version of a *sequence* in Python. Unlike strings, they are mutable, meaning the elements inside a list can be changed!\n",
        "\n",
        "In this section we will learn about:\n",
        "    \n",
        "    1) Creating lists\n",
        "    2) Indexing and Slicing Lists\n",
        "    3) Basic List Methods\n",
        "    4) Nesting Lists\n",
        "\n",
        "Lists are constructed with brackets [] and commas separating every element in the list."
      ]
    },
    {
      "cell_type": "markdown",
      "metadata": {
        "deletable": false,
        "editable": false,
        "id": "d5BMqNQGfCkB"
      },
      "source": [
        "### question 10.1\n",
        "run the next code cell and print the values:\n",
        "\n",
        "    1) sentence\n",
        "    2) mylist\n",
        "    3) the type of mylist"
      ]
    },
    {
      "cell_type": "code",
      "execution_count": 26,
      "metadata": {
        "deletable": false,
        "editable": false,
        "id": "EYzeEzt_fCkB"
      },
      "outputs": [],
      "source": [
        "sentence = 'Hi everybode and wellcome for today lecture'\n",
        "mylist = sentence.split(' ')"
      ]
    },
    {
      "cell_type": "code",
      "execution_count": 27,
      "metadata": {
        "deletable": false,
        "id": "uIHpaDBffCkB",
        "colab": {
          "base_uri": "https://localhost:8080/"
        },
        "outputId": "40d1a103-429b-4660-94a1-2ec511daef6d"
      },
      "outputs": [
        {
          "output_type": "stream",
          "name": "stdout",
          "text": [
            "['Hi', 'everybode', 'and', 'wellcome', 'for', 'today', 'lecture']\n"
          ]
        }
      ],
      "source": [
        "# Write your answer here\n",
        "sentence = 'Hi everybode and wellcome for today lecture'\n",
        "mylist = sentence.split(' ')\n",
        "print(mylist)"
      ]
    },
    {
      "cell_type": "markdown",
      "metadata": {
        "deletable": false,
        "editable": false,
        "id": "v-qmosYmfCkC"
      },
      "source": [
        "### question 10.2\n",
        "The next code cell create a list combine from several data types, run it.\n",
        "\n",
        "Change the last value of <code>mylist</code> to a string value and then print <code>mylist</code>"
      ]
    },
    {
      "cell_type": "code",
      "execution_count": 28,
      "metadata": {
        "deletable": false,
        "editable": false,
        "id": "4teGeGU7fCkC",
        "colab": {
          "base_uri": "https://localhost:8080/"
        },
        "outputId": "af359044-0474-41a2-d9b5-485241e0e901"
      },
      "outputs": [
        {
          "output_type": "stream",
          "name": "stdout",
          "text": [
            "[25, 'Hello', 22.5]\n"
          ]
        }
      ],
      "source": [
        "mylist = [25, 'Hello', 22.5]\n",
        "print(mylist)"
      ]
    },
    {
      "cell_type": "code",
      "execution_count": 29,
      "metadata": {
        "deletable": false,
        "id": "PH5jFqVmfCkC",
        "colab": {
          "base_uri": "https://localhost:8080/"
        },
        "outputId": "eed9b39e-afc4-4ba6-d5b1-082e2afa1fc6"
      },
      "outputs": [
        {
          "output_type": "stream",
          "name": "stdout",
          "text": [
            "[25, 'Hello', '22.5']\n"
          ]
        }
      ],
      "source": [
        "# Write your answer here\n",
        "mylist = [25, 'Hello', 22.5]\n",
        "mylist[2] = str(mylist[2])\n",
        "print(mylist)"
      ]
    },
    {
      "cell_type": "markdown",
      "metadata": {
        "deletable": false,
        "editable": false,
        "id": "8Prn9Z61fCkC"
      },
      "source": [
        "## .pop()\n",
        "lets learn about a <code>.pop(location)</code> method - this is for \"pop off\" values from a list."
      ]
    },
    {
      "cell_type": "code",
      "execution_count": 30,
      "metadata": {
        "deletable": false,
        "editable": false,
        "id": "iaUhIcmSfCkC",
        "colab": {
          "base_uri": "https://localhost:8080/"
        },
        "outputId": "d04a100c-a270-4efa-bf19-9c14309420b4"
      },
      "outputs": [
        {
          "output_type": "stream",
          "name": "stdout",
          "text": [
            "['everybody', 'and', 'see', 'if', 'you', 'can', 'understand', 'the', 'meaning', 'of', '.pop()', 'method']\n"
          ]
        }
      ],
      "source": [
        "#example for .pop\n",
        "sentence = 'hi everybody and see if you can understand the meaning of .pop() method'\n",
        "my_newlist = sentence.split(' ')\n",
        "my_newlist.pop(0)\n",
        "print(my_newlist)"
      ]
    },
    {
      "cell_type": "markdown",
      "metadata": {
        "deletable": false,
        "editable": false,
        "id": "wDXb8gvzfCkD"
      },
      "source": [
        "### question 11\n",
        "create the next list and use <code>.pop()</code> to eleminate the number 30 in this list.\n",
        "\n",
        "<code>mylist = [10,20,30,40,50,60]</code>\n",
        "\n",
        "after using <code>.pop</code> print the list.\n"
      ]
    },
    {
      "cell_type": "code",
      "execution_count": 31,
      "metadata": {
        "deletable": false,
        "id": "67QZAeP5fCkD",
        "colab": {
          "base_uri": "https://localhost:8080/"
        },
        "outputId": "1842358d-6be2-4038-a49b-b46a136f6694"
      },
      "outputs": [
        {
          "output_type": "stream",
          "name": "stdout",
          "text": [
            "[10, 20, 40, 50, 60]\n"
          ]
        }
      ],
      "source": [
        "# Write your answer here\n",
        "mylist = [10,20,30,40,50,60]\n",
        "mylist.pop(2)\n",
        "print(mylist)"
      ]
    },
    {
      "cell_type": "markdown",
      "metadata": {
        "deletable": false,
        "editable": false,
        "id": "d7gjEsfdfCkD"
      },
      "source": [
        "### question 12\n",
        "run the next cell and fix all the errors in it."
      ]
    },
    {
      "cell_type": "code",
      "execution_count": 35,
      "metadata": {
        "deletable": false,
        "editable": false,
        "id": "t4OdKqfafCkD",
        "colab": {
          "base_uri": "https://localhost:8080/"
        },
        "outputId": "9d924654-a629-4f91-8628-c2541e5d993d"
      },
      "outputs": [
        {
          "output_type": "stream",
          "name": "stdout",
          "text": [
            "4\n"
          ]
        }
      ],
      "source": [
        "# the code need to print the last value of the my_newlist\n",
        "sentence = 'Lecture 1 Lecture 2 Lecture 3 Lecture 4'\n",
        "my_newlist = sentence.split(' ')\n",
        "location = len(my_newlist)\n",
        "lastvalue = my_newlist.pop(location - 1)\n",
        "print(lastvalue)"
      ]
    },
    {
      "cell_type": "markdown",
      "metadata": {
        "deletable": false,
        "editable": false,
        "id": "5ZABS3KhfCkD"
      },
      "source": [
        "\n",
        "### question 13\n",
        "insert the next code <code>new_list = ['P','y','t','h','o','n']</code> to thecell belwo and use the next methods on new_list\n",
        ":\n",
        "\n",
        "    1) .reverse()\n",
        "    2) .sort()\n",
        "print the objects you get and explain in the text cell about the methods."
      ]
    },
    {
      "cell_type": "code",
      "execution_count": 44,
      "metadata": {
        "deletable": false,
        "id": "V1nPoIeffCkD",
        "colab": {
          "base_uri": "https://localhost:8080/"
        },
        "outputId": "d46cfafb-e9de-4c57-a510-d2b059886dad"
      },
      "outputs": [
        {
          "output_type": "stream",
          "name": "stdout",
          "text": [
            "['n', 'o', 'h', 't', 'y', 'P']\n",
            "['P', 'h', 'n', 'o', 't', 'y']\n"
          ]
        }
      ],
      "source": [
        "# Write your answer here\n",
        "new_list = ['P','y','t','h','o','n']\n",
        "new_list.reverse()\n",
        "print(new_list)\n",
        "new_list.sort()\n",
        "print(new_list)"
      ]
    },
    {
      "cell_type": "markdown",
      "metadata": {
        "deletable": false,
        "id": "cEKmy19XfCkE"
      },
      "source": [
        "### Write your explain here"
      ]
    },
    {
      "cell_type": "markdown",
      "metadata": {
        "deletable": false,
        "editable": false,
        "id": "8nU0_R1DfCkE"
      },
      "source": [
        "# Set and Booleans\n",
        "\n",
        "There are two other object types in Python that we should quickly cover: Sets and Booleans.\n",
        "\n",
        "## Sets\n",
        "\n",
        "Sets are an unordered collection of *unique* elements. We can construct them by using the set() function .\n",
        "Let's go ahead and make a set and try to understand what unique means when we say the a set is a unique data set.\n",
        "#### Run the next examples"
      ]
    },
    {
      "cell_type": "code",
      "execution_count": 45,
      "metadata": {
        "deletable": false,
        "editable": false,
        "id": "XxoWW0jgfCkE",
        "colab": {
          "base_uri": "https://localhost:8080/"
        },
        "outputId": "a6c9feb1-5d5a-41cd-92ea-13a852b6a367"
      },
      "outputs": [
        {
          "output_type": "stream",
          "name": "stdout",
          "text": [
            "Lets print the set we create and see it's type: \n",
            "set() <class 'set'>\n"
          ]
        }
      ],
      "source": [
        "# Example 1\n",
        "my_newset = set()\n",
        "print(\"Lets print the set we create and see it's type: \")\n",
        "print(my_newset,type(my_newset))\n",
        "my_newset.add(1)"
      ]
    },
    {
      "cell_type": "code",
      "execution_count": 46,
      "metadata": {
        "deletable": false,
        "editable": false,
        "id": "p8FeZsIafCkE",
        "colab": {
          "base_uri": "https://localhost:8080/"
        },
        "outputId": "719ab771-d4b6-4a86-cf2c-2b6ebaa17eb2"
      },
      "outputs": [
        {
          "output_type": "execute_result",
          "data": {
            "text/plain": [
              "{1}"
            ]
          },
          "metadata": {},
          "execution_count": 46
        }
      ],
      "source": [
        "# Example 2\n",
        "my_newset"
      ]
    },
    {
      "cell_type": "code",
      "execution_count": 47,
      "metadata": {
        "deletable": false,
        "editable": false,
        "id": "40rSBbREfCkE",
        "colab": {
          "base_uri": "https://localhost:8080/"
        },
        "outputId": "701abbc8-1d6f-4470-eae0-c0908c16dfd5"
      },
      "outputs": [
        {
          "output_type": "execute_result",
          "data": {
            "text/plain": [
              "{1, 2}"
            ]
          },
          "metadata": {},
          "execution_count": 47
        }
      ],
      "source": [
        "# Example 3\n",
        "my_newset.add(2)\n",
        "my_newset.add(1)\n",
        "my_newset.add(1)\n",
        "my_newset.add(1)\n",
        "my_newset"
      ]
    },
    {
      "cell_type": "markdown",
      "source": [
        "Adding duplicates means nothing for the set, as set saves only unique values."
      ],
      "metadata": {
        "id": "5S51jaolfgox"
      }
    },
    {
      "cell_type": "markdown",
      "metadata": {
        "deletable": false,
        "editable": false,
        "id": "9VqjfxC5fCkF"
      },
      "source": [
        "### question 14\n",
        "\n",
        "explain in the next text cell the output of the previous cell (Example 3)"
      ]
    },
    {
      "cell_type": "markdown",
      "metadata": {
        "deletable": false,
        "id": "iCboh_JUfCkF"
      },
      "source": [
        "### Write your explain here"
      ]
    },
    {
      "cell_type": "markdown",
      "metadata": {
        "deletable": false,
        "editable": false,
        "id": "FOWeavZRfCkF"
      },
      "source": [
        "run the next code and see for yourself that you fully understood the unique data set --> set\n",
        "\n",
        "<code>my_set = set([1,1,1,1,1,1,2,2,2,2,2,3,3,3,3,3,3])</code>"
      ]
    },
    {
      "cell_type": "code",
      "execution_count": 48,
      "metadata": {
        "deletable": false,
        "editable": false,
        "id": "mCAV3FI5fCkF",
        "colab": {
          "base_uri": "https://localhost:8080/"
        },
        "outputId": "59ceb6dc-798a-4557-e180-9332e1f108a1"
      },
      "outputs": [
        {
          "output_type": "stream",
          "name": "stdout",
          "text": [
            "{1, 2, 3}\n"
          ]
        }
      ],
      "source": [
        "my_set = set([1,1,1,1,1,1,2,2,2,2,2,3,3,3,3,3,3])\n",
        "print(my_set)"
      ]
    },
    {
      "cell_type": "markdown",
      "metadata": {
        "deletable": false,
        "editable": false,
        "id": "kli4MAgsfCkF"
      },
      "source": [
        "### question 15\n",
        "insert the list - <code>[[1,2,3],[4,[5,6,7]],[[8,9,10],11,12]]</code> to new variable named <code>list_number</code>:\n",
        "\n",
        "print the sublist <code>[5,6,7]</code> by going to the location of the list_number:"
      ]
    },
    {
      "cell_type": "code",
      "execution_count": 51,
      "metadata": {
        "deletable": false,
        "id": "zzuViCOsfCkG",
        "colab": {
          "base_uri": "https://localhost:8080/"
        },
        "outputId": "98995dc2-8f0a-471a-d2ec-5ed4c5d23cd5"
      },
      "outputs": [
        {
          "output_type": "stream",
          "name": "stdout",
          "text": [
            "[5, 6, 7]\n"
          ]
        }
      ],
      "source": [
        "# Write your answer here\n",
        "list_number = [[1,2,3],[4,[5,6,7]],[[8,9,10],11,12]]\n",
        "print(list_number[1][1])"
      ]
    },
    {
      "cell_type": "markdown",
      "metadata": {
        "deletable": false,
        "editable": false,
        "id": "clnJZ-RhfCkG"
      },
      "source": [
        "# Practice using functions\n",
        "\n",
        "In the following questions, replace the word 'pass' with your code in order for the function to perform its purpose."
      ]
    },
    {
      "cell_type": "markdown",
      "metadata": {
        "deletable": false,
        "editable": false,
        "id": "dqkjHMIEfCkG"
      },
      "source": [
        "### question 16\n",
        "Define a function <code>MaxOfThree()</code> that takes three numbers as arguments and returns the largest of them (Use <code>if</code>, <code>elif</code> and <code>else</code>). For example, <code>MaxOfThree(1,  2,  3)</code> should return 3."
      ]
    },
    {
      "cell_type": "code",
      "execution_count": 53,
      "metadata": {
        "deletable": false,
        "id": "3UcMcRKJfCkG"
      },
      "outputs": [],
      "source": [
        "def MaxOfThree(n1, n2, n3):\n",
        "    if(n1 > n2 and n1 > n3):\n",
        "      return(n1)\n",
        "    elif(n2 > n1 and n2 > n3):\n",
        "      return(n2)\n",
        "    elif(n3 > n1 and n3 > n2):\n",
        "      return(n3)"
      ]
    },
    {
      "cell_type": "code",
      "execution_count": 54,
      "metadata": {
        "deletable": false,
        "editable": false,
        "id": "QCazc_C-fCkG",
        "colab": {
          "base_uri": "https://localhost:8080/"
        },
        "outputId": "b70e39d3-f5a6-4fa5-c2bb-51b2f9e5fbc3"
      },
      "outputs": [
        {
          "output_type": "stream",
          "name": "stdout",
          "text": [
            "3\n"
          ]
        }
      ],
      "source": [
        "print(MaxOfThree(1,  2,  3))"
      ]
    },
    {
      "cell_type": "markdown",
      "metadata": {
        "deletable": false,
        "editable": false,
        "id": "dVOXvHs_fCkH"
      },
      "source": [
        "### question 17\n",
        "Define a function <code>MySum()</code> and a function <code>MyMultiply()</code> that sums and multiplies (respectively) all the numbers in a list of numbers (Use <code>for</code>). For example, s <code>MySum([1, 2, 3, 4])</code> should return 10, and <code>MyMultiply([1, 2, 3, 4])</code> should return 24."
      ]
    },
    {
      "cell_type": "code",
      "execution_count": 55,
      "metadata": {
        "deletable": false,
        "id": "QDhXSqNwfCkH"
      },
      "outputs": [],
      "source": [
        "def MySum(inputList):\n",
        "    sum = 0\n",
        "    for i in inputList:\n",
        "      sum += i\n",
        "    return(sum)"
      ]
    },
    {
      "cell_type": "code",
      "execution_count": 56,
      "metadata": {
        "deletable": false,
        "editable": false,
        "id": "jTK7xy3jfCkH",
        "colab": {
          "base_uri": "https://localhost:8080/"
        },
        "outputId": "52c6ab6f-05e8-47c1-cd98-edc121cca1f6"
      },
      "outputs": [
        {
          "output_type": "stream",
          "name": "stdout",
          "text": [
            "10\n"
          ]
        }
      ],
      "source": [
        "print(MySum([1, 2, 3, 4]))"
      ]
    },
    {
      "cell_type": "code",
      "execution_count": 57,
      "metadata": {
        "deletable": false,
        "id": "uy_S03TMfCkH"
      },
      "outputs": [],
      "source": [
        "def MyMultiply(inputList):\n",
        "    result = 1\n",
        "    for i in inputList:\n",
        "      result *= i\n",
        "    return(result)"
      ]
    },
    {
      "cell_type": "code",
      "execution_count": 58,
      "metadata": {
        "deletable": false,
        "editable": false,
        "id": "tvl-QGVvfCkH",
        "colab": {
          "base_uri": "https://localhost:8080/"
        },
        "outputId": "16b8ced3-19f4-4e52-df50-39f1d0927469"
      },
      "outputs": [
        {
          "output_type": "stream",
          "name": "stdout",
          "text": [
            "24\n"
          ]
        }
      ],
      "source": [
        "print(MyMultiply([1, 2, 3, 4]))"
      ]
    },
    {
      "cell_type": "markdown",
      "metadata": {
        "deletable": false,
        "editable": false,
        "id": "h8N1o09DfCkI"
      },
      "source": [
        "### question 18\n",
        "Define a function <code>MyStars()</code> that takes a list of integers and prints a string of stars which has the length of a value of an integer to the screen. For example, <code>MyStars([3, 9, 7])</code> should print the following:\n",
        "\n",
        "\\*\\*\\*\n",
        "\n",
        "\\*\\*\\*\\*\\*\\*\\*\\*\\*\n",
        "\n",
        "\\*\\*\\*\\*\\*\\*\\*"
      ]
    },
    {
      "cell_type": "code",
      "execution_count": 59,
      "metadata": {
        "deletable": false,
        "id": "vO_2qYNEfCkI"
      },
      "outputs": [],
      "source": [
        "def MyStars(inputList):\n",
        "    for i in inputList:\n",
        "      print('*' * i)\n"
      ]
    },
    {
      "cell_type": "code",
      "execution_count": 60,
      "metadata": {
        "deletable": false,
        "editable": false,
        "id": "ENlSo3J8fCkI",
        "colab": {
          "base_uri": "https://localhost:8080/"
        },
        "outputId": "1f0da3df-8b79-41ec-c336-6e13648acb9c"
      },
      "outputs": [
        {
          "output_type": "stream",
          "name": "stdout",
          "text": [
            "***\n",
            "*********\n",
            "*******\n"
          ]
        }
      ],
      "source": [
        "MyStars([3, 9, 7])"
      ]
    }
  ],
  "metadata": {
    "kernelspec": {
      "display_name": "Python 3",
      "language": "python",
      "name": "python3"
    },
    "language_info": {
      "codemirror_mode": {
        "name": "ipython",
        "version": 3
      },
      "file_extension": ".py",
      "mimetype": "text/x-python",
      "name": "python",
      "nbconvert_exporter": "python",
      "pygments_lexer": "ipython3",
      "version": "3.8.3"
    },
    "colab": {
      "provenance": []
    }
  },
  "nbformat": 4,
  "nbformat_minor": 0
}