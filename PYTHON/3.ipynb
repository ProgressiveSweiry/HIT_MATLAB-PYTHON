{
  "nbformat": 4,
  "nbformat_minor": 0,
  "metadata": {
    "colab": {
      "provenance": []
    },
    "kernelspec": {
      "name": "python3",
      "display_name": "Python 3"
    },
    "language_info": {
      "name": "python"
    }
  },
  "cells": [
    {
      "cell_type": "code",
      "execution_count": 35,
      "metadata": {
        "id": "LoeueuRpYfzU"
      },
      "outputs": [],
      "source": [
        "import numpy as np\n",
        "\n",
        "def myDictConst(myKey, myVal):\n",
        "  myDict = {}\n",
        "  for n in range(len(myKey)):\n",
        "    myDict[myKey[n]] = myVal[n]\n",
        "  return myDict\n",
        "\n",
        "\n",
        "def countMyStrings(myStr):\n",
        "  myStr = myStr.lower()\n",
        "  strList = myStr.split()\n",
        "  myDict = {}\n",
        "  for word in strList:\n",
        "    if word in myDict:\n",
        "      myDict[word] = myDict[word] + 1\n",
        "    else:\n",
        "      myDict[word] = 1\n",
        "  return myDict\n",
        "\n",
        "def myArange(*args):\n",
        "  l = len(args)\n",
        "  if (l == 1):\n",
        "    stop = args[0]\n",
        "    myArr = range(stop)\n",
        "  elif(l == 2):\n",
        "    start = args[0]\n",
        "    stop = args[1]\n",
        "    myArr = range(start, stop)\n",
        "  elif(l == 3):\n",
        "    start = args[0]\n",
        "    stop = args[1]\n",
        "    step = args[2]\n",
        "    tmp = start\n",
        "    i=0\n",
        "    myArr = []\n",
        "    while(abs(tmp) < abs(stop-step)):\n",
        "      tmp = start + step*i\n",
        "      myArr.append(tmp)\n",
        "      i += 1\n",
        "  else:\n",
        "    start = args[0]\n",
        "    stop = args[1]\n",
        "    step = args[2]\n",
        "    myDtype = args[3]\n",
        "    tmp = start\n",
        "    i=0\n",
        "    myArr = []\n",
        "    while(abs(tmp) < abs(stop-step)):\n",
        "      tmp = start + step*i\n",
        "      myArr.append(tmp)\n",
        "      i += 1\n",
        "  if(l < 3):\n",
        "    return (np.array(myArr, dtype=type(stop)))\n",
        "  elif(l < 4):\n",
        "    return (np.array(myArr, dtype=type(step)))\n",
        "  else:\n",
        "    return (np.array(myArr, dtype=myDtype))\n",
        "\n",
        "def ModBooleanVector(inputArr, div):\n",
        "  return np.array(list(map(lambda x: not(x%div), inputArr)))\n"
      ]
    },
    {
      "cell_type": "code",
      "source": [
        "import numpy as np\n",
        "\n",
        "myArray = np.arange(10, dtype=int)\n",
        "BooleanArray = ModBooleanVector(myArray,3)\n",
        "\n",
        "print(myArray)\n",
        "print(BooleanArray)"
      ],
      "metadata": {
        "colab": {
          "base_uri": "https://localhost:8080/"
        },
        "id": "GW0nv0FsadCY",
        "outputId": "968a4cb4-10e1-4086-bbbc-1a0a5c6537b5"
      },
      "execution_count": 36,
      "outputs": [
        {
          "output_type": "stream",
          "name": "stdout",
          "text": [
            "[0 1 2 3 4 5 6 7 8 9]\n",
            "[ True False False  True False False  True False False  True]\n"
          ]
        }
      ]
    }
  ]
}